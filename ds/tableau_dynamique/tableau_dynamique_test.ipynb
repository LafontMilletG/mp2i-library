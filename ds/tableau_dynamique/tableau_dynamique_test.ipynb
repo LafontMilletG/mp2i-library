{
 "cells": [
  {
   "cell_type": "code",
   "execution_count": 1,
   "id": "7a6e54a9-95b9-4bd1-a055-935a3f2f5607",
   "metadata": {},
   "outputs": [
    {
     "name": "stdout",
     "output_type": "stream",
     "text": [
      "type 'a stack_imperative = {\n",
      "  length : unit -> int;\n",
      "  append : 'a -> unit;\n",
      "  get : int -> 'a;\n",
      "  set : int -> 'a -> unit;\n",
      "  del : int -> unit;\n",
      "  conc : 'a list -> unit;\n",
      "  tolist : unit -> 'a list;\n",
      "}\n",
      "val tableau_dynamique_de_liste : 'a list -> 'a stack_imperative = <fun>\n"
     ]
    }
   ],
   "source": [
    "#use \"tableau_dynamique.ml\""
   ]
  },
  {
   "cell_type": "code",
   "execution_count": 12,
   "id": "b70eda73-495b-40e1-adc2-5d4dca7de169",
   "metadata": {},
   "outputs": [
    {
     "data": {
      "text/plain": [
       "val s : int stack_imperative =\n",
       "  {length = <fun>; append = <fun>; get = <fun>; set = <fun>; del = <fun>;\n",
       "   conc = <fun>; tolist = <fun>}\n"
      ]
     },
     "execution_count": 12,
     "metadata": {},
     "output_type": "execute_result"
    },
    {
     "data": {
      "text/plain": [
       "- : int = 5\n"
      ]
     },
     "execution_count": 12,
     "metadata": {},
     "output_type": "execute_result"
    },
    {
     "data": {
      "text/plain": [
       "- : int = 45\n"
      ]
     },
     "execution_count": 12,
     "metadata": {},
     "output_type": "execute_result"
    },
    {
     "data": {
      "text/plain": [
       "- : int list = [1; 2; 34; 4; 5; 45]\n"
      ]
     },
     "execution_count": 12,
     "metadata": {},
     "output_type": "execute_result"
    },
    {
     "data": {
      "text/plain": [
       "- : int list = [1; 2; 4; 5; 45]\n"
      ]
     },
     "execution_count": 12,
     "metadata": {},
     "output_type": "execute_result"
    },
    {
     "data": {
      "text/plain": [
       "- : int list = [1; 2; 4; 5; 45; 3; 2; 5]\n"
      ]
     },
     "execution_count": 12,
     "metadata": {},
     "output_type": "execute_result"
    }
   ],
   "source": [
    "let s = tableau_dynamique_de_liste [1;2;3;4;5];;\n",
    "s.length();;\n",
    "s.append 45;\n",
    "s.get 5;;\n",
    "s.set 2 34;\n",
    "s.tolist();;\n",
    "s.del 2;\n",
    "s.tolist();;\n",
    "s.conc [3;2;5];\n",
    "s.tolist();;"
   ]
  }
 ],
 "metadata": {
  "kernelspec": {
   "display_name": "OCaml default",
   "language": "OCaml",
   "name": "ocaml-jupyter"
  },
  "language_info": {
   "codemirror_mode": "text/x-ocaml",
   "file_extension": ".ml",
   "mimetype": "text/x-ocaml",
   "name": "OCaml",
   "nbconverter_exporter": null,
   "pygments_lexer": "OCaml",
   "version": "4.08.1"
  }
 },
 "nbformat": 4,
 "nbformat_minor": 5
}
